{
 "cells": [
  {
   "cell_type": "code",
   "execution_count": 272,
   "metadata": {},
   "outputs": [],
   "source": [
    "import pandas as pd\n",
    "import numpy as np\n",
    "import seaborn as sns\n",
    "import re\n",
    "import nltk\n",
    "from nltk.stem.porter import PorterStemmer\n",
    "from nltk.corpus import stopwords\n",
    "import numpy as np\n",
    "import pandas as pd\n",
    "import matplotlib.pyplot as plt\n",
    "import seaborn as sns\n",
    "from sklearn.model_selection import train_test_split\n",
    "from sklearn.preprocessing import StandardScaler\n",
    "from sklearn.linear_model import LogisticRegression\n",
    "from sklearn.metrics import r2_score\n",
    "from sklearn.metrics import confusion_matrix\n",
    "from sklearn.neighbors import KNeighborsClassifier\n",
    "from sklearn.svm import SVC"
   ]
  },
  {
   "cell_type": "code",
   "execution_count": 273,
   "metadata": {},
   "outputs": [
    {
     "name": "stderr",
     "output_type": "stream",
     "text": [
      "C:\\Users\\Özdemir\\AppData\\Local\\Temp\\ipykernel_18064\\430955801.py:1: FutureWarning: The error_bad_lines argument has been deprecated and will be removed in a future version. Use on_bad_lines in the future.\n",
      "\n",
      "\n",
      "  df = pd.read_csv(\"Restaurant_Reviews.csv\",error_bad_lines=False,sep=\",\")\n",
      "Skipping line 15: expected 2 fields, saw 4\n",
      "Skipping line 20: expected 2 fields, saw 3\n",
      "Skipping line 23: expected 2 fields, saw 3\n",
      "Skipping line 29: expected 2 fields, saw 3\n",
      "Skipping line 30: expected 2 fields, saw 3\n",
      "Skipping line 32: expected 2 fields, saw 4\n",
      "Skipping line 35: expected 2 fields, saw 3\n",
      "Skipping line 36: expected 2 fields, saw 3\n",
      "Skipping line 39: expected 2 fields, saw 3\n",
      "Skipping line 45: expected 2 fields, saw 3\n",
      "Skipping line 46: expected 2 fields, saw 3\n",
      "Skipping line 49: expected 2 fields, saw 3\n",
      "Skipping line 51: expected 2 fields, saw 3\n",
      "Skipping line 55: expected 2 fields, saw 3\n",
      "Skipping line 57: expected 2 fields, saw 4\n",
      "Skipping line 60: expected 2 fields, saw 3\n",
      "Skipping line 61: expected 2 fields, saw 3\n",
      "Skipping line 67: expected 2 fields, saw 3\n",
      "Skipping line 72: expected 2 fields, saw 3\n",
      "Skipping line 75: expected 2 fields, saw 3\n",
      "Skipping line 76: expected 2 fields, saw 4\n",
      "Skipping line 92: expected 2 fields, saw 3\n",
      "Skipping line 93: expected 2 fields, saw 3\n",
      "Skipping line 94: expected 2 fields, saw 3\n",
      "Skipping line 101: expected 2 fields, saw 3\n",
      "Skipping line 102: expected 2 fields, saw 3\n",
      "Skipping line 103: expected 2 fields, saw 3\n",
      "Skipping line 104: expected 2 fields, saw 3\n",
      "Skipping line 105: expected 2 fields, saw 4\n",
      "Skipping line 108: expected 2 fields, saw 3\n",
      "Skipping line 112: expected 2 fields, saw 3\n",
      "Skipping line 113: expected 2 fields, saw 3\n",
      "Skipping line 115: expected 2 fields, saw 3\n",
      "Skipping line 121: expected 2 fields, saw 3\n",
      "Skipping line 123: expected 2 fields, saw 3\n",
      "Skipping line 125: expected 2 fields, saw 3\n",
      "Skipping line 126: expected 2 fields, saw 3\n",
      "Skipping line 127: expected 2 fields, saw 4\n",
      "Skipping line 129: expected 2 fields, saw 3\n",
      "Skipping line 131: expected 2 fields, saw 3\n",
      "Skipping line 134: expected 2 fields, saw 4\n",
      "Skipping line 136: expected 2 fields, saw 4\n",
      "Skipping line 137: expected 2 fields, saw 3\n",
      "Skipping line 140: expected 2 fields, saw 3\n",
      "Skipping line 148: expected 2 fields, saw 3\n",
      "Skipping line 149: expected 2 fields, saw 3\n",
      "Skipping line 161: expected 2 fields, saw 3\n",
      "Skipping line 164: expected 2 fields, saw 3\n",
      "Skipping line 172: expected 2 fields, saw 3\n",
      "Skipping line 173: expected 2 fields, saw 3\n",
      "Skipping line 175: expected 2 fields, saw 3\n",
      "Skipping line 177: expected 2 fields, saw 3\n",
      "Skipping line 179: expected 2 fields, saw 3\n",
      "Skipping line 180: expected 2 fields, saw 3\n",
      "Skipping line 182: expected 2 fields, saw 3\n",
      "Skipping line 186: expected 2 fields, saw 3\n",
      "Skipping line 188: expected 2 fields, saw 3\n",
      "Skipping line 191: expected 2 fields, saw 3\n",
      "Skipping line 194: expected 2 fields, saw 3\n",
      "Skipping line 195: expected 2 fields, saw 3\n",
      "Skipping line 202: expected 2 fields, saw 3\n",
      "Skipping line 211: expected 2 fields, saw 4\n",
      "Skipping line 212: expected 2 fields, saw 3\n",
      "Skipping line 213: expected 2 fields, saw 3\n",
      "Skipping line 222: expected 2 fields, saw 4\n",
      "Skipping line 224: expected 2 fields, saw 5\n",
      "Skipping line 226: expected 2 fields, saw 3\n",
      "Skipping line 233: expected 2 fields, saw 3\n",
      "Skipping line 235: expected 2 fields, saw 3\n",
      "Skipping line 237: expected 2 fields, saw 3\n",
      "Skipping line 239: expected 2 fields, saw 3\n",
      "Skipping line 241: expected 2 fields, saw 3\n",
      "Skipping line 245: expected 2 fields, saw 3\n",
      "Skipping line 248: expected 2 fields, saw 3\n",
      "Skipping line 255: expected 2 fields, saw 3\n",
      "Skipping line 263: expected 2 fields, saw 3\n",
      "Skipping line 265: expected 2 fields, saw 5\n",
      "Skipping line 267: expected 2 fields, saw 3\n",
      "Skipping line 268: expected 2 fields, saw 3\n",
      "Skipping line 269: expected 2 fields, saw 3\n",
      "Skipping line 271: expected 2 fields, saw 3\n",
      "Skipping line 275: expected 2 fields, saw 4\n",
      "Skipping line 277: expected 2 fields, saw 4\n",
      "Skipping line 285: expected 2 fields, saw 3\n",
      "Skipping line 291: expected 2 fields, saw 3\n",
      "Skipping line 294: expected 2 fields, saw 4\n",
      "Skipping line 295: expected 2 fields, saw 3\n",
      "Skipping line 297: expected 2 fields, saw 3\n",
      "Skipping line 308: expected 2 fields, saw 3\n",
      "Skipping line 309: expected 2 fields, saw 3\n",
      "Skipping line 310: expected 2 fields, saw 3\n",
      "Skipping line 316: expected 2 fields, saw 3\n",
      "Skipping line 318: expected 2 fields, saw 3\n",
      "Skipping line 319: expected 2 fields, saw 4\n",
      "Skipping line 320: expected 2 fields, saw 3\n",
      "Skipping line 323: expected 2 fields, saw 3\n",
      "Skipping line 325: expected 2 fields, saw 3\n",
      "Skipping line 329: expected 2 fields, saw 3\n",
      "Skipping line 330: expected 2 fields, saw 3\n",
      "Skipping line 333: expected 2 fields, saw 3\n",
      "Skipping line 334: expected 2 fields, saw 3\n",
      "Skipping line 340: expected 2 fields, saw 3\n",
      "Skipping line 343: expected 2 fields, saw 4\n",
      "Skipping line 348: expected 2 fields, saw 3\n",
      "Skipping line 349: expected 2 fields, saw 4\n",
      "Skipping line 351: expected 2 fields, saw 3\n",
      "Skipping line 357: expected 2 fields, saw 3\n",
      "Skipping line 358: expected 2 fields, saw 3\n",
      "Skipping line 367: expected 2 fields, saw 3\n",
      "Skipping line 370: expected 2 fields, saw 3\n",
      "Skipping line 374: expected 2 fields, saw 3\n",
      "Skipping line 375: expected 2 fields, saw 4\n",
      "Skipping line 379: expected 2 fields, saw 3\n",
      "Skipping line 381: expected 2 fields, saw 4\n",
      "Skipping line 392: expected 2 fields, saw 3\n",
      "Skipping line 394: expected 2 fields, saw 3\n",
      "Skipping line 397: expected 2 fields, saw 4\n",
      "Skipping line 403: expected 2 fields, saw 3\n",
      "Skipping line 405: expected 2 fields, saw 3\n",
      "Skipping line 413: expected 2 fields, saw 3\n",
      "Skipping line 414: expected 2 fields, saw 3\n",
      "Skipping line 421: expected 2 fields, saw 4\n",
      "Skipping line 423: expected 2 fields, saw 5\n",
      "Skipping line 424: expected 2 fields, saw 3\n",
      "Skipping line 430: expected 2 fields, saw 3\n",
      "Skipping line 441: expected 2 fields, saw 3\n",
      "Skipping line 444: expected 2 fields, saw 3\n",
      "Skipping line 447: expected 2 fields, saw 3\n",
      "Skipping line 450: expected 2 fields, saw 3\n",
      "Skipping line 458: expected 2 fields, saw 3\n",
      "Skipping line 469: expected 2 fields, saw 3\n",
      "Skipping line 470: expected 2 fields, saw 3\n",
      "Skipping line 472: expected 2 fields, saw 3\n",
      "Skipping line 476: expected 2 fields, saw 3\n",
      "Skipping line 477: expected 2 fields, saw 3\n",
      "Skipping line 483: expected 2 fields, saw 3\n",
      "Skipping line 487: expected 2 fields, saw 3\n",
      "Skipping line 490: expected 2 fields, saw 3\n",
      "Skipping line 494: expected 2 fields, saw 3\n",
      "Skipping line 499: expected 2 fields, saw 3\n",
      "Skipping line 502: expected 2 fields, saw 4\n",
      "Skipping line 503: expected 2 fields, saw 3\n",
      "Skipping line 512: expected 2 fields, saw 3\n",
      "Skipping line 513: expected 2 fields, saw 3\n",
      "Skipping line 519: expected 2 fields, saw 4\n",
      "Skipping line 520: expected 2 fields, saw 3\n",
      "Skipping line 521: expected 2 fields, saw 3\n",
      "Skipping line 522: expected 2 fields, saw 3\n",
      "Skipping line 524: expected 2 fields, saw 3\n",
      "Skipping line 527: expected 2 fields, saw 3\n",
      "Skipping line 529: expected 2 fields, saw 3\n",
      "Skipping line 534: expected 2 fields, saw 3\n",
      "Skipping line 535: expected 2 fields, saw 4\n",
      "Skipping line 539: expected 2 fields, saw 5\n",
      "Skipping line 546: expected 2 fields, saw 3\n",
      "Skipping line 552: expected 2 fields, saw 3\n",
      "Skipping line 556: expected 2 fields, saw 3\n",
      "Skipping line 557: expected 2 fields, saw 3\n",
      "Skipping line 575: expected 2 fields, saw 3\n",
      "Skipping line 577: expected 2 fields, saw 3\n",
      "Skipping line 581: expected 2 fields, saw 3\n",
      "Skipping line 584: expected 2 fields, saw 3\n",
      "Skipping line 588: expected 2 fields, saw 3\n",
      "Skipping line 590: expected 2 fields, saw 4\n",
      "Skipping line 603: expected 2 fields, saw 5\n",
      "Skipping line 605: expected 2 fields, saw 4\n",
      "Skipping line 614: expected 2 fields, saw 3\n",
      "Skipping line 615: expected 2 fields, saw 3\n",
      "Skipping line 619: expected 2 fields, saw 3\n",
      "Skipping line 625: expected 2 fields, saw 3\n",
      "Skipping line 631: expected 2 fields, saw 3\n",
      "Skipping line 634: expected 2 fields, saw 3\n",
      "Skipping line 639: expected 2 fields, saw 5\n",
      "Skipping line 640: expected 2 fields, saw 3\n",
      "Skipping line 644: expected 2 fields, saw 4\n",
      "Skipping line 655: expected 2 fields, saw 3\n",
      "Skipping line 662: expected 2 fields, saw 5\n",
      "Skipping line 663: expected 2 fields, saw 3\n",
      "Skipping line 670: expected 2 fields, saw 3\n",
      "Skipping line 682: expected 2 fields, saw 3\n",
      "Skipping line 685: expected 2 fields, saw 3\n",
      "Skipping line 688: expected 2 fields, saw 5\n",
      "Skipping line 689: expected 2 fields, saw 3\n",
      "Skipping line 691: expected 2 fields, saw 3\n",
      "Skipping line 693: expected 2 fields, saw 3\n",
      "Skipping line 696: expected 2 fields, saw 4\n",
      "Skipping line 698: expected 2 fields, saw 3\n",
      "Skipping line 700: expected 2 fields, saw 3\n",
      "Skipping line 701: expected 2 fields, saw 4\n",
      "Skipping line 702: expected 2 fields, saw 3\n",
      "Skipping line 711: expected 2 fields, saw 3\n",
      "Skipping line 712: expected 2 fields, saw 3\n",
      "Skipping line 716: expected 2 fields, saw 3\n",
      "Skipping line 720: expected 2 fields, saw 3\n",
      "Skipping line 722: expected 2 fields, saw 5\n",
      "Skipping line 724: expected 2 fields, saw 3\n",
      "Skipping line 728: expected 2 fields, saw 3\n",
      "Skipping line 731: expected 2 fields, saw 3\n",
      "Skipping line 732: expected 2 fields, saw 3\n",
      "Skipping line 735: expected 2 fields, saw 3\n",
      "Skipping line 737: expected 2 fields, saw 3\n",
      "Skipping line 738: expected 2 fields, saw 3\n",
      "Skipping line 739: expected 2 fields, saw 3\n",
      "Skipping line 745: expected 2 fields, saw 4\n",
      "Skipping line 749: expected 2 fields, saw 3\n",
      "Skipping line 750: expected 2 fields, saw 3\n",
      "Skipping line 752: expected 2 fields, saw 3\n",
      "Skipping line 753: expected 2 fields, saw 4\n",
      "Skipping line 754: expected 2 fields, saw 3\n",
      "Skipping line 756: expected 2 fields, saw 3\n",
      "Skipping line 757: expected 2 fields, saw 3\n",
      "Skipping line 762: expected 2 fields, saw 4\n",
      "Skipping line 764: expected 2 fields, saw 3\n",
      "Skipping line 770: expected 2 fields, saw 6\n",
      "Skipping line 775: expected 2 fields, saw 3\n",
      "Skipping line 781: expected 2 fields, saw 3\n",
      "Skipping line 784: expected 2 fields, saw 4\n",
      "Skipping line 786: expected 2 fields, saw 4\n",
      "Skipping line 789: expected 2 fields, saw 3\n",
      "Skipping line 790: expected 2 fields, saw 4\n",
      "Skipping line 791: expected 2 fields, saw 3\n",
      "Skipping line 796: expected 2 fields, saw 3\n",
      "Skipping line 798: expected 2 fields, saw 3\n",
      "Skipping line 807: expected 2 fields, saw 4\n",
      "Skipping line 810: expected 2 fields, saw 4\n",
      "Skipping line 811: expected 2 fields, saw 3\n",
      "Skipping line 814: expected 2 fields, saw 4\n",
      "Skipping line 831: expected 2 fields, saw 4\n",
      "Skipping line 835: expected 2 fields, saw 3\n",
      "Skipping line 842: expected 2 fields, saw 3\n",
      "Skipping line 844: expected 2 fields, saw 3\n",
      "Skipping line 849: expected 2 fields, saw 3\n",
      "Skipping line 850: expected 2 fields, saw 3\n",
      "Skipping line 851: expected 2 fields, saw 5\n",
      "Skipping line 856: expected 2 fields, saw 4\n",
      "Skipping line 858: expected 2 fields, saw 3\n",
      "Skipping line 862: expected 2 fields, saw 3\n",
      "Skipping line 864: expected 2 fields, saw 4\n",
      "Skipping line 867: expected 2 fields, saw 3\n",
      "Skipping line 869: expected 2 fields, saw 3\n",
      "Skipping line 870: expected 2 fields, saw 3\n",
      "Skipping line 872: expected 2 fields, saw 3\n",
      "Skipping line 874: expected 2 fields, saw 4\n",
      "Skipping line 880: expected 2 fields, saw 3\n",
      "Skipping line 881: expected 2 fields, saw 3\n",
      "Skipping line 883: expected 2 fields, saw 3\n",
      "Skipping line 886: expected 2 fields, saw 3\n",
      "Skipping line 889: expected 2 fields, saw 3\n",
      "Skipping line 891: expected 2 fields, saw 3\n",
      "Skipping line 899: expected 2 fields, saw 3\n",
      "Skipping line 901: expected 2 fields, saw 3\n",
      "Skipping line 905: expected 2 fields, saw 3\n",
      "Skipping line 907: expected 2 fields, saw 4\n",
      "Skipping line 913: expected 2 fields, saw 3\n",
      "Skipping line 914: expected 2 fields, saw 3\n",
      "Skipping line 915: expected 2 fields, saw 3\n",
      "Skipping line 918: expected 2 fields, saw 3\n",
      "Skipping line 921: expected 2 fields, saw 3\n",
      "Skipping line 922: expected 2 fields, saw 3\n",
      "Skipping line 924: expected 2 fields, saw 3\n",
      "Skipping line 926: expected 2 fields, saw 4\n",
      "Skipping line 927: expected 2 fields, saw 3\n",
      "Skipping line 928: expected 2 fields, saw 3\n",
      "Skipping line 932: expected 2 fields, saw 4\n",
      "Skipping line 933: expected 2 fields, saw 3\n",
      "Skipping line 938: expected 2 fields, saw 3\n",
      "Skipping line 940: expected 2 fields, saw 3\n",
      "Skipping line 941: expected 2 fields, saw 4\n",
      "Skipping line 947: expected 2 fields, saw 3\n",
      "Skipping line 948: expected 2 fields, saw 4\n",
      "Skipping line 951: expected 2 fields, saw 3\n",
      "Skipping line 954: expected 2 fields, saw 3\n",
      "Skipping line 956: expected 2 fields, saw 3\n",
      "Skipping line 958: expected 2 fields, saw 3\n",
      "Skipping line 962: expected 2 fields, saw 4\n",
      "Skipping line 974: expected 2 fields, saw 3\n",
      "Skipping line 976: expected 2 fields, saw 5\n",
      "Skipping line 978: expected 2 fields, saw 3\n",
      "Skipping line 981: expected 2 fields, saw 3\n",
      "Skipping line 982: expected 2 fields, saw 3\n",
      "Skipping line 986: expected 2 fields, saw 3\n",
      "Skipping line 989: expected 2 fields, saw 4\n",
      "Skipping line 1000: expected 2 fields, saw 3\n",
      "Skipping line 1001: expected 2 fields, saw 4\n",
      "\n"
     ]
    }
   ],
   "source": [
    "df = pd.read_csv(\"Restaurant_Reviews.csv\",error_bad_lines=False,sep=\",\")\n",
    "df.dropna(axis=0,inplace=True)"
   ]
  },
  {
   "cell_type": "code",
   "execution_count": 274,
   "metadata": {},
   "outputs": [],
   "source": [
    "yorum = [re.sub('[^a-zA-Z]',' ',i) for i in df[\"Review\"]]"
   ]
  },
  {
   "cell_type": "code",
   "execution_count": 275,
   "metadata": {},
   "outputs": [],
   "source": [
    "df[\"Review\"] = yorum"
   ]
  },
  {
   "cell_type": "code",
   "execution_count": 276,
   "metadata": {},
   "outputs": [
    {
     "data": {
      "text/plain": [
       "0                               Wow    Loved this place \n",
       "1                                     Crust is not good \n",
       "2              Not tasty and the texture was just nasty \n",
       "3      Stopped by during the late May bank holiday of...\n",
       "4      The selection on the menu was great and so wer...\n",
       "                             ...                        \n",
       "711              the presentation of the food was awful \n",
       "712             I can t tell you how disappointed I was \n",
       "713    I think food should have flavor and texture an...\n",
       "714                             Appetite instantly gone \n",
       "715    Overall I was not impressed and would not go b...\n",
       "Name: Review, Length: 704, dtype: object"
      ]
     },
     "execution_count": 276,
     "metadata": {},
     "output_type": "execute_result"
    }
   ],
   "source": [
    "df[\"Review\"]"
   ]
  },
  {
   "cell_type": "code",
   "execution_count": 277,
   "metadata": {},
   "outputs": [],
   "source": [
    "buyuk_kucuk = df[\"Review\"].str.lower()\n"
   ]
  },
  {
   "cell_type": "code",
   "execution_count": 278,
   "metadata": {},
   "outputs": [],
   "source": [
    "buyuk_kucuk = buyuk_kucuk.str.split()\n",
    "df[\"Review\"] = buyuk_kucuk"
   ]
  },
  {
   "cell_type": "code",
   "execution_count": 279,
   "metadata": {},
   "outputs": [
    {
     "data": {
      "text/plain": [
       "0                              [wow, loved, this, place]\n",
       "1                                 [crust, is, not, good]\n",
       "2      [not, tasty, and, the, texture, was, just, nasty]\n",
       "3      [stopped, by, during, the, late, may, bank, ho...\n",
       "4      [the, selection, on, the, menu, was, great, an...\n",
       "                             ...                        \n",
       "711       [the, presentation, of, the, food, was, awful]\n",
       "712    [i, can, t, tell, you, how, disappointed, i, was]\n",
       "713    [i, think, food, should, have, flavor, and, te...\n",
       "714                          [appetite, instantly, gone]\n",
       "715    [overall, i, was, not, impressed, and, would, ...\n",
       "Name: Review, Length: 704, dtype: object"
      ]
     },
     "execution_count": 279,
     "metadata": {},
     "output_type": "execute_result"
    }
   ],
   "source": [
    "df[\"Review\"]"
   ]
  },
  {
   "cell_type": "code",
   "execution_count": 280,
   "metadata": {},
   "outputs": [],
   "source": [
    "ps = PorterStemmer()"
   ]
  },
  {
   "cell_type": "code",
   "execution_count": 281,
   "metadata": {},
   "outputs": [
    {
     "name": "stderr",
     "output_type": "stream",
     "text": [
      "[nltk_data] Downloading package stopwords to\n",
      "[nltk_data]     C:\\Users\\Özdemir\\AppData\\Roaming\\nltk_data...\n",
      "[nltk_data]   Package stopwords is already up-to-date!\n"
     ]
    },
    {
     "data": {
      "text/plain": [
       "True"
      ]
     },
     "execution_count": 281,
     "metadata": {},
     "output_type": "execute_result"
    }
   ],
   "source": [
    "nltk.download(\"stopwords\")"
   ]
  },
  {
   "cell_type": "code",
   "execution_count": 282,
   "metadata": {},
   "outputs": [],
   "source": [
    "from nltk.corpus import stopwords"
   ]
  },
  {
   "cell_type": "code",
   "execution_count": 283,
   "metadata": {},
   "outputs": [],
   "source": [
    "yorum = list()\n",
    "derlem = list()\n",
    "for satır in df[\"Review\"]:\n",
    "    yorum = [ ps.stem(kelime)for kelime in satır if not kelime in set(stopwords.words(\"english\"))]         \n",
    "    \n",
    "    yorum = \" \".join(yorum)\n",
    "    derlem.append(yorum)\n"
   ]
  },
  {
   "cell_type": "code",
   "execution_count": 284,
   "metadata": {},
   "outputs": [],
   "source": [
    "from sklearn.feature_extraction.text import CountVectorizer"
   ]
  },
  {
   "cell_type": "code",
   "execution_count": 285,
   "metadata": {},
   "outputs": [],
   "source": [
    "cv = CountVectorizer(max_features=2000)\n"
   ]
  },
  {
   "cell_type": "code",
   "execution_count": 286,
   "metadata": {},
   "outputs": [],
   "source": [
    "X =cv.fit_transform(derlem).toarray()\n"
   ]
  },
  {
   "cell_type": "code",
   "execution_count": 287,
   "metadata": {},
   "outputs": [],
   "source": [
    "y = df[\"Liked\"].values"
   ]
  },
  {
   "cell_type": "code",
   "execution_count": 288,
   "metadata": {},
   "outputs": [],
   "source": [
    "X_train,X_test,Y_train,Y_test = train_test_split(X,\n",
    "y,\n",
    "random_state=0,\n",
    "test_size=0.20)"
   ]
  },
  {
   "cell_type": "code",
   "execution_count": 289,
   "metadata": {},
   "outputs": [],
   "source": [
    "from sklearn.naive_bayes import GaussianNB"
   ]
  },
  {
   "cell_type": "code",
   "execution_count": 290,
   "metadata": {},
   "outputs": [
    {
     "data": {
      "text/plain": [
       "array([0., 0., 1., 1., 0., 0., 1., 0., 1., 0., 1., 1., 1., 1., 1., 1., 1.,\n",
       "       0., 1., 1., 1., 1., 0., 0., 0., 0., 1., 1., 1., 0., 0., 1., 0., 1.,\n",
       "       1., 0., 1., 0., 0., 0., 1., 0., 0., 1., 1., 0., 1., 1., 1., 1., 1.,\n",
       "       1., 1., 0., 1., 1., 0., 0., 0., 1., 1., 1., 0., 1., 1., 1., 1., 0.,\n",
       "       1., 1., 1., 1., 1., 1., 0., 1., 0., 0., 1., 0., 1., 0., 1., 0., 1.,\n",
       "       0., 0., 1., 1., 1., 1., 1., 1., 1., 1., 1., 0., 1., 0., 1., 1., 1.,\n",
       "       0., 0., 1., 0., 0., 0., 0., 1., 0., 0., 1., 1., 0., 1., 1., 1., 1.,\n",
       "       0., 1., 0., 1., 1., 0., 1., 1., 0., 1., 1., 1., 0., 1., 0., 1., 1.,\n",
       "       1., 0., 0., 0., 1., 1., 1., 1., 0., 1., 1., 1., 1., 1., 1., 0., 0.,\n",
       "       0., 1., 1., 1., 1., 1., 1., 0., 1., 1., 0., 1., 1., 1., 0., 0., 1.,\n",
       "       1., 1., 1., 0., 0., 1., 0., 1., 1., 1., 0., 1., 0., 1., 0., 1., 0.,\n",
       "       1., 0., 1., 0., 0., 0., 0., 0., 1., 0., 1., 0., 1., 0., 0., 0., 1.,\n",
       "       0., 0., 0., 0., 1., 0., 0., 0., 0., 1., 0., 0., 1., 1., 0., 1., 1.,\n",
       "       1., 1., 1., 1., 0., 0., 1., 0., 0., 0., 0., 0., 0., 0., 1., 0., 0.,\n",
       "       1., 0., 1., 1., 0., 1., 1., 0., 0., 0., 0., 1., 0., 0., 0., 1., 0.,\n",
       "       1., 0., 0., 0., 0., 1., 1., 1., 1., 0., 1., 0., 1., 1., 0., 0., 1.,\n",
       "       0., 0., 0., 1., 0., 1., 0., 0., 0., 0., 0., 1., 0., 1., 0., 1., 0.,\n",
       "       1., 1., 0., 1., 1., 1., 0., 1., 0., 0., 0., 1., 1., 1., 0., 0., 1.,\n",
       "       1., 0., 1., 1., 1., 1., 0., 0., 1., 1., 0., 1., 0., 0., 1., 1., 1.,\n",
       "       1., 0., 0., 0., 0., 0., 1., 1., 0., 1., 1., 0., 1., 1., 0., 0., 0.,\n",
       "       0., 1., 0., 1., 1., 0., 0., 1., 1., 0., 0., 0., 1., 1., 1., 0., 0.,\n",
       "       0., 1., 0., 1., 0., 1., 0., 1., 0., 0., 0., 0., 0., 1., 0., 0., 0.,\n",
       "       1., 0., 0., 0., 0., 1., 0., 1., 1., 0., 0., 0., 0., 0., 0., 1., 1.,\n",
       "       0., 0., 0., 0., 0., 1., 0., 1., 1., 1., 1., 1., 0., 0., 0., 1., 0.,\n",
       "       1., 1., 1., 1., 0., 1., 0., 0., 0., 1., 0., 0., 1., 0., 0., 1., 0.,\n",
       "       1., 0., 1., 1., 0., 0., 0., 1., 1., 0., 0., 1., 1., 0., 0., 0., 0.,\n",
       "       0., 1., 1., 0., 0., 0., 0., 1., 0., 1., 1., 0., 0., 0., 1., 0., 0.,\n",
       "       1., 1., 1., 1., 1., 1., 0., 0., 0., 1., 0., 1., 0., 0., 0., 0., 1.,\n",
       "       0., 1., 1., 1., 1., 0., 0., 1., 1., 0., 0., 0., 1., 0., 1., 0., 1.,\n",
       "       1., 1., 1., 1., 0., 0., 0., 1., 0., 0., 1., 1., 1., 0., 0., 1., 0.,\n",
       "       0., 0., 1., 0., 0., 0., 1., 1., 1., 1., 0., 0., 0., 1., 1., 1., 0.,\n",
       "       1., 1., 1., 1., 1., 0., 1., 0., 0., 0., 1., 0., 1., 1., 0., 1., 1.,\n",
       "       0., 0., 0., 1., 0., 1., 0., 1., 1., 0., 0., 1., 1., 1., 0., 0., 1.,\n",
       "       0., 0.])"
      ]
     },
     "execution_count": 290,
     "metadata": {},
     "output_type": "execute_result"
    }
   ],
   "source": [
    "Y_train"
   ]
  },
  {
   "cell_type": "code",
   "execution_count": 291,
   "metadata": {},
   "outputs": [
    {
     "data": {
      "text/html": [
       "<style>#sk-container-id-3 {color: black;background-color: white;}#sk-container-id-3 pre{padding: 0;}#sk-container-id-3 div.sk-toggleable {background-color: white;}#sk-container-id-3 label.sk-toggleable__label {cursor: pointer;display: block;width: 100%;margin-bottom: 0;padding: 0.3em;box-sizing: border-box;text-align: center;}#sk-container-id-3 label.sk-toggleable__label-arrow:before {content: \"▸\";float: left;margin-right: 0.25em;color: #696969;}#sk-container-id-3 label.sk-toggleable__label-arrow:hover:before {color: black;}#sk-container-id-3 div.sk-estimator:hover label.sk-toggleable__label-arrow:before {color: black;}#sk-container-id-3 div.sk-toggleable__content {max-height: 0;max-width: 0;overflow: hidden;text-align: left;background-color: #f0f8ff;}#sk-container-id-3 div.sk-toggleable__content pre {margin: 0.2em;color: black;border-radius: 0.25em;background-color: #f0f8ff;}#sk-container-id-3 input.sk-toggleable__control:checked~div.sk-toggleable__content {max-height: 200px;max-width: 100%;overflow: auto;}#sk-container-id-3 input.sk-toggleable__control:checked~label.sk-toggleable__label-arrow:before {content: \"▾\";}#sk-container-id-3 div.sk-estimator input.sk-toggleable__control:checked~label.sk-toggleable__label {background-color: #d4ebff;}#sk-container-id-3 div.sk-label input.sk-toggleable__control:checked~label.sk-toggleable__label {background-color: #d4ebff;}#sk-container-id-3 input.sk-hidden--visually {border: 0;clip: rect(1px 1px 1px 1px);clip: rect(1px, 1px, 1px, 1px);height: 1px;margin: -1px;overflow: hidden;padding: 0;position: absolute;width: 1px;}#sk-container-id-3 div.sk-estimator {font-family: monospace;background-color: #f0f8ff;border: 1px dotted black;border-radius: 0.25em;box-sizing: border-box;margin-bottom: 0.5em;}#sk-container-id-3 div.sk-estimator:hover {background-color: #d4ebff;}#sk-container-id-3 div.sk-parallel-item::after {content: \"\";width: 100%;border-bottom: 1px solid gray;flex-grow: 1;}#sk-container-id-3 div.sk-label:hover label.sk-toggleable__label {background-color: #d4ebff;}#sk-container-id-3 div.sk-serial::before {content: \"\";position: absolute;border-left: 1px solid gray;box-sizing: border-box;top: 0;bottom: 0;left: 50%;z-index: 0;}#sk-container-id-3 div.sk-serial {display: flex;flex-direction: column;align-items: center;background-color: white;padding-right: 0.2em;padding-left: 0.2em;position: relative;}#sk-container-id-3 div.sk-item {position: relative;z-index: 1;}#sk-container-id-3 div.sk-parallel {display: flex;align-items: stretch;justify-content: center;background-color: white;position: relative;}#sk-container-id-3 div.sk-item::before, #sk-container-id-3 div.sk-parallel-item::before {content: \"\";position: absolute;border-left: 1px solid gray;box-sizing: border-box;top: 0;bottom: 0;left: 50%;z-index: -1;}#sk-container-id-3 div.sk-parallel-item {display: flex;flex-direction: column;z-index: 1;position: relative;background-color: white;}#sk-container-id-3 div.sk-parallel-item:first-child::after {align-self: flex-end;width: 50%;}#sk-container-id-3 div.sk-parallel-item:last-child::after {align-self: flex-start;width: 50%;}#sk-container-id-3 div.sk-parallel-item:only-child::after {width: 0;}#sk-container-id-3 div.sk-dashed-wrapped {border: 1px dashed gray;margin: 0 0.4em 0.5em 0.4em;box-sizing: border-box;padding-bottom: 0.4em;background-color: white;}#sk-container-id-3 div.sk-label label {font-family: monospace;font-weight: bold;display: inline-block;line-height: 1.2em;}#sk-container-id-3 div.sk-label-container {text-align: center;}#sk-container-id-3 div.sk-container {/* jupyter's `normalize.less` sets `[hidden] { display: none; }` but bootstrap.min.css set `[hidden] { display: none !important; }` so we also need the `!important` here to be able to override the default hidden behavior on the sphinx rendered scikit-learn.org. See: https://github.com/scikit-learn/scikit-learn/issues/21755 */display: inline-block !important;position: relative;}#sk-container-id-3 div.sk-text-repr-fallback {display: none;}</style><div id=\"sk-container-id-3\" class=\"sk-top-container\"><div class=\"sk-text-repr-fallback\"><pre>GaussianNB()</pre><b>In a Jupyter environment, please rerun this cell to show the HTML representation or trust the notebook. <br />On GitHub, the HTML representation is unable to render, please try loading this page with nbviewer.org.</b></div><div class=\"sk-container\" hidden><div class=\"sk-item\"><div class=\"sk-estimator sk-toggleable\"><input class=\"sk-toggleable__control sk-hidden--visually\" id=\"sk-estimator-id-3\" type=\"checkbox\" checked><label for=\"sk-estimator-id-3\" class=\"sk-toggleable__label sk-toggleable__label-arrow\">GaussianNB</label><div class=\"sk-toggleable__content\"><pre>GaussianNB()</pre></div></div></div></div></div>"
      ],
      "text/plain": [
       "GaussianNB()"
      ]
     },
     "execution_count": 291,
     "metadata": {},
     "output_type": "execute_result"
    }
   ],
   "source": [
    "gnb= GaussianNB()\n",
    "gnb.fit(X_train,Y_train)"
   ]
  },
  {
   "cell_type": "code",
   "execution_count": 292,
   "metadata": {},
   "outputs": [],
   "source": [
    "y_pred = gnb.predict(X_test)"
   ]
  },
  {
   "cell_type": "code",
   "execution_count": 293,
   "metadata": {},
   "outputs": [],
   "source": [
    "from sklearn.metrics import confusion_matrix"
   ]
  },
  {
   "cell_type": "code",
   "execution_count": 294,
   "metadata": {},
   "outputs": [
    {
     "data": {
      "text/plain": [
       "array([[46, 27],\n",
       "       [10, 58]], dtype=int64)"
      ]
     },
     "execution_count": 294,
     "metadata": {},
     "output_type": "execute_result"
    }
   ],
   "source": [
    "cm = confusion_matrix(Y_test,y_pred)\n",
    "cm\n",
    "\n"
   ]
  },
  {
   "cell_type": "code",
   "execution_count": 295,
   "metadata": {},
   "outputs": [
    {
     "data": {
      "text/plain": [
       "0.9271758436944938"
      ]
     },
     "execution_count": 295,
     "metadata": {},
     "output_type": "execute_result"
    }
   ],
   "source": [
    "gnb.score(X_train,Y_train)"
   ]
  },
  {
   "cell_type": "code",
   "execution_count": 296,
   "metadata": {},
   "outputs": [
    {
     "ename": "TypeError",
     "evalue": "_BaseNB.predict() missing 1 required positional argument: 'X'",
     "output_type": "error",
     "traceback": [
      "\u001b[1;31m---------------------------------------------------------------------------\u001b[0m",
      "\u001b[1;31mTypeError\u001b[0m                                 Traceback (most recent call last)",
      "Cell \u001b[1;32mIn[296], line 1\u001b[0m\n\u001b[1;32m----> 1\u001b[0m gnb\u001b[39m.\u001b[39;49mpredict()\n",
      "\u001b[1;31mTypeError\u001b[0m: _BaseNB.predict() missing 1 required positional argument: 'X'"
     ]
    }
   ],
   "source": [
    "gnb.predict()"
   ]
  },
  {
   "cell_type": "code",
   "execution_count": null,
   "metadata": {},
   "outputs": [
    {
     "data": {
      "text/plain": [
       "array([[0, 0, 0, ..., 0, 0, 0],\n",
       "       [0, 0, 0, ..., 0, 0, 0],\n",
       "       [0, 0, 0, ..., 0, 0, 0],\n",
       "       ...,\n",
       "       [0, 0, 0, ..., 0, 0, 0],\n",
       "       [0, 0, 0, ..., 0, 0, 0],\n",
       "       [0, 0, 0, ..., 0, 0, 0]], dtype=int64)"
      ]
     },
     "execution_count": 254,
     "metadata": {},
     "output_type": "execute_result"
    }
   ],
   "source": [
    "X_train"
   ]
  },
  {
   "cell_type": "code",
   "execution_count": null,
   "metadata": {},
   "outputs": [],
   "source": []
  }
 ],
 "metadata": {
  "kernelspec": {
   "display_name": "Python 3",
   "language": "python",
   "name": "python3"
  },
  "language_info": {
   "codemirror_mode": {
    "name": "ipython",
    "version": 3
   },
   "file_extension": ".py",
   "mimetype": "text/x-python",
   "name": "python",
   "nbconvert_exporter": "python",
   "pygments_lexer": "ipython3",
   "version": "3.11.2"
  },
  "orig_nbformat": 4
 },
 "nbformat": 4,
 "nbformat_minor": 2
}
