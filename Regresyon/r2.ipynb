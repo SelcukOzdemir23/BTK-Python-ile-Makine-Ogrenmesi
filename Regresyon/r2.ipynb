{
 "cells": [
  {
   "cell_type": "code",
   "execution_count": 1,
   "metadata": {},
   "outputs": [],
   "source": [
    "from sklearn.metrics import r2_score\n",
    "import pandas as pd\n",
    "import numpy as np\n",
    "import seaborn as sns\n",
    "import matplotlib.pyplot as plt\n",
    "from sklearn.model_selection import train_test_split\n",
    "from sklearn.linear_model import LinearRegression\n",
    "from sklearn.preprocessing import PolynomialFeatures\n",
    "from sklearn.svm import SVR\n",
    "from sklearn.preprocessing import StandardScaler\n",
    "from sklearn.model_selection import GridSearchCV\n",
    "from sklearn.tree import DecisionTreeRegressor\n",
    "from sklearn.ensemble import RandomForestRegressor"
   ]
  },
  {
   "cell_type": "code",
   "execution_count": 4,
   "metadata": {},
   "outputs": [],
   "source": [
    "df = pd.read_csv(\"maaslar.csv\")"
   ]
  },
  {
   "cell_type": "code",
   "execution_count": 19,
   "metadata": {},
   "outputs": [],
   "source": [
    "X= df.drop([\"maas\",\"unvan\"],axis=1)\n",
    "Y= df.loc[:,\"maas\"]\n"
   ]
  },
  {
   "cell_type": "code",
   "execution_count": 34,
   "metadata": {},
   "outputs": [],
   "source": [
    "def r2scoreolc(df,hedef,ekstra_dusur):\n",
    "\n",
    "    \"\"\"\n",
    "    GİRİLEN DF DEĞERİNDE KESİNLİKE KATEGORİK DEĞERLER BULUNMAMALIDIR.\n",
    "    YA DÜŞÜRÜLMELİ YA DA SAYISAL DEĞERE DEĞİŞTİRİLMELİDİR: \n",
    "    BU GELİŞTİRİCİNİN SORUMLULUĞUNDADIR. \n",
    "    \n",
    "    \"\"\"\n",
    "    X= df.drop([hedef]+ekstra_dusur,axis=1)\n",
    "    Y=df[hedef].values\n",
    "    Y=pd.DataFrame(Y,columns=[hedef])\n",
    "\n",
    "    linear_model = LinearRegression()\n",
    "    linear_model.fit(X,Y)\n",
    "    print(\"-------Linear Model-----\")\n",
    "    print(r2_score(Y,linear_model.predict(X)))\n",
    "\n",
    "    poly_reg = PolynomialFeatures(degree=10)\n",
    "    x_poly = poly_reg.fit_transform(X)\n",
    "    lin_reg2 = LinearRegression()\n",
    "    lin_reg2.fit(x_poly,Y)\n",
    "    print(\"-------Polinom Model-----\")\n",
    "    print(r2_score(Y,lin_reg2.predict(x_poly)))\n",
    "\n",
    "\n",
    "    sc1 = StandardScaler()\n",
    "    X_olcekli = sc1.fit_transform(X)\n",
    "\n",
    "    sc2 = StandardScaler()\n",
    "    Y_olcekli = sc2.fit_transform(Y)\n",
    "    svr_model = SVR()\n",
    "    svr_model.fit(X_olcekli,Y_olcekli)\n",
    "    print(\"-------SVR-----\")\n",
    "    print(r2_score(Y_olcekli,svr_model.predict(X_olcekli)))\n",
    "\n",
    "    decision_model = DecisionTreeRegressor()\n",
    "    decision_model.fit(X,Y)\n",
    "    print(\"-------DECİSİON TREE-----\")\n",
    "    print(r2_score(Y,decision_model.predict(X)))\n",
    "\n",
    "    random_model =RandomForestRegressor()\n",
    "    random_model.fit(X,Y)\n",
    "    print(\"-------Random Decision-----\")\n",
    "    print(r2_score(Y,random_model.predict(X)))\n",
    "\n"
   ]
  },
  {
   "cell_type": "code",
   "execution_count": 35,
   "metadata": {},
   "outputs": [
    {
     "name": "stdout",
     "output_type": "stream",
     "text": [
      "-------Linear Model-----\n",
      "0.6690412331929894\n",
      "-------Polinom Model-----\n",
      "1.0\n",
      "-------SVR-----\n",
      "0.7513836788854973\n",
      "-------DECİSİON TREE-----\n",
      "1.0\n",
      "-------Random Decision-----\n",
      "0.9637555919900573\n"
     ]
    },
    {
     "name": "stderr",
     "output_type": "stream",
     "text": [
      "c:\\Users\\Özdemir\\AppData\\Local\\Programs\\Python\\Python311\\Lib\\site-packages\\sklearn\\utils\\validation.py:1143: DataConversionWarning: A column-vector y was passed when a 1d array was expected. Please change the shape of y to (n_samples, ), for example using ravel().\n",
      "  y = column_or_1d(y, warn=True)\n",
      "C:\\Users\\Özdemir\\AppData\\Local\\Temp\\ipykernel_1780\\3732461690.py:42: DataConversionWarning: A column-vector y was passed when a 1d array was expected. Please change the shape of y to (n_samples,), for example using ravel().\n",
      "  random_model.fit(X,Y)\n"
     ]
    }
   ],
   "source": [
    "r2scoreolc(df,\"maas\",[\"unvan\"])"
   ]
  },
  {
   "cell_type": "code",
   "execution_count": null,
   "metadata": {},
   "outputs": [],
   "source": []
  }
 ],
 "metadata": {
  "kernelspec": {
   "display_name": "Python 3",
   "language": "python",
   "name": "python3"
  },
  "language_info": {
   "codemirror_mode": {
    "name": "ipython",
    "version": 3
   },
   "file_extension": ".py",
   "mimetype": "text/x-python",
   "name": "python",
   "nbconvert_exporter": "python",
   "pygments_lexer": "ipython3",
   "version": "3.11.2"
  },
  "orig_nbformat": 4,
  "vscode": {
   "interpreter": {
    "hash": "3df67512d90e8dfd608dfe8a03b3864cfd34f250fbd0fb9284c4f59037253f41"
   }
  }
 },
 "nbformat": 4,
 "nbformat_minor": 2
}
